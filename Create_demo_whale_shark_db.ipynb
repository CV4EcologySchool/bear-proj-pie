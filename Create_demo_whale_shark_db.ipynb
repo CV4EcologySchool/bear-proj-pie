{
 "cells": [
  {
   "cell_type": "code",
   "execution_count": 5,
   "metadata": {},
   "outputs": [],
   "source": [
    "import matplotlib.pyplot as plt\n",
    "%matplotlib inline"
   ]
  },
  {
   "cell_type": "code",
   "execution_count": 6,
   "metadata": {},
   "outputs": [],
   "source": [
    "import wbia\n",
    "import os\n",
    "import utool as ut"
   ]
  },
  {
   "cell_type": "markdown",
   "metadata": {},
   "source": [
    "# Test plugin"
   ]
  },
  {
   "cell_type": "code",
   "execution_count": 1,
   "metadata": {},
   "outputs": [
    {
     "name": "stdout",
     "output_type": "stream",
     "text": [
      "VTOOL BACKEND FOR pyflann = <module 'pyflann' from '/home/olga/anaconda3/envs/wildme/lib/python3.7/site-packages/pyflann/__init__.py'>\n",
      "VTOOL BACKEND FOR FLANN_CLS = <class 'pyflann.index.FLANN'>\n",
      "[pydarknet] CPU fallback for: pydarknet_cuda\n"
     ]
    },
    {
     "name": "stderr",
     "output_type": "stream",
     "text": [
      "/home/olga/anaconda3/envs/wildme/lib/python3.7/site-packages/wbia/plottool/__MPL_INIT__.py:176: MatplotlibDeprecationWarning: \n",
      "The keymap.all_axes rcparam was deprecated in Matplotlib 3.3 and will be removed two minor releases later.\n",
      "  mpl.rcParams[key] = ''\n"
     ]
    }
   ],
   "source": [
    "import wbia\n",
    "import wbia_pie_v2"
   ]
  },
  {
   "cell_type": "code",
   "execution_count": 2,
   "metadata": {},
   "outputs": [],
   "source": [
    "demo_db_url = 'https://www.dropbox.com/s/xwac8lyyua5jw3o/whale_shark_cropped_demo.zip?dl=1'\n",
    "species = 'whale_shark'\n",
    "subset = 'test2021'"
   ]
  },
  {
   "cell_type": "code",
   "execution_count": 3,
   "metadata": {},
   "outputs": [
    {
     "name": "stdout",
     "output_type": "stream",
     "text": [
      "[ensuredir] checkpath('/home/olga/projects_anaconda/testdb_whale_shark_test2021')\n",
      "[ensuredir] ...(directory) exists\n"
     ]
    }
   ],
   "source": [
    "test_ibs = wbia_pie_v2._plugin.wbia_pie_v2_test_ibs(demo_db_url, species, subset)"
   ]
  },
  {
   "cell_type": "code",
   "execution_count": 4,
   "metadata": {},
   "outputs": [],
   "source": [
    "aid_list = test_ibs.get_valid_aids(species=species)[:100]"
   ]
  },
  {
   "cell_type": "code",
   "execution_count": 5,
   "metadata": {},
   "outputs": [
    {
     "name": "stdout",
     "output_type": "stream",
     "text": [
      "[utool] Checking remote hash URL 'https://dl.dropbox.com/s/6wvkrf319lhwhug/pie_v2.whale_shark.20210304.yaml?dl=1.md5'\n",
      "\n",
      "tic('checking remote hash')\n",
      "...toc('checking remote hash')=0.9513s\n",
      "[utool] Pre Local Hash:  None\n",
      "[utool] Pre Remote Hash: None\n",
      "[utool] Already have file /home/olga/.cache/wbia_pie_v2/pie_v2.whale_shark.20210304.yaml?dl=1\n",
      "Building model: resnet50_fc512\n"
     ]
    },
    {
     "name": "stderr",
     "output_type": "stream",
     "text": [
      "/home/olga/anaconda3/envs/wildme/lib/python3.7/site-packages/torch/cuda/__init__.py:52: UserWarning: CUDA initialization: The NVIDIA driver on your system is too old (found version 10010). Please update your GPU driver by downloading and installing a new version from the URL: http://www.nvidia.com/Download/index.aspx Alternatively, go to: https://pytorch.org to install a PyTorch version that has been compiled with your version of the CUDA driver. (Triggered internally at  /pytorch/c10/cuda/CUDAFunctions.cpp:100.)\n",
      "  return torch._C._cuda_getDeviceCount() > 0\n"
     ]
    },
    {
     "name": "stdout",
     "output_type": "stream",
     "text": [
      "Loaded model from wbia_pie_v2/reid-data/temp_data/model.pth.tar-200_cpu\n",
      "Loaded 100 images for model evaluation\n"
     ]
    }
   ],
   "source": [
    "embs = wbia_pie_v2._plugin.pie_compute_embedding(test_ibs, aid_list)"
   ]
  },
  {
   "cell_type": "code",
   "execution_count": 10,
   "metadata": {
    "collapsed": true
   },
   "outputs": [
    {
     "name": "stdout",
     "output_type": "stream",
     "text": [
      "[deptbl.compute] add PiePytorchEmbedding chunk    0/1...  \n",
      "[utool] Checking remote hash URL 'https://dl.dropbox.com/s/6wvkrf319lhwhug/pie_v2.whale_shark.20210304.yaml?dl=1.md5'\n",
      "\n",
      "tic('checking remote hash')\n",
      "...toc('checking remote hash')=1.3466s\n",
      "[utool] Pre Local Hash:  None\n",
      "[utool] Pre Remote Hash: None\n",
      "[utool] Already have file /home/olga/.cache/wbia_pie_pytorch/pie_v2.whale_shark.20210304.yaml?dl=1\n",
      "Building model: resnet50_fc512\n",
      "Loaded model from wbia_pie_pytorch/reid-data/temp_data/model.pth.tar-200_cpu\n",
      "Loaded 19 images for model evaluation\n",
      "[deptbl.compute] add PiePytorchEmbedding chunk    1/1...  rate=0.10 sec/iter,  etr=0:00:00, ellapsed=0:00:09, wall=14:05 AEST \n",
      "[utool] Checking remote hash URL 'https://dl.dropbox.com/s/6wvkrf319lhwhug/pie_v2.whale_shark.20210304.yaml?dl=1.md5'\n",
      "\n",
      "tic('checking remote hash')\n",
      "...toc('checking remote hash')=0.7809s\n",
      "[utool] Pre Local Hash:  None\n",
      "[utool] Pre Remote Hash: None\n",
      "[utool] Already have file /home/olga/.cache/wbia_pie_pytorch/pie_v2.whale_shark.20210304.yaml?dl=1\n",
      "Building model: resnet50_fc512\n",
      "Loaded model from wbia_pie_pytorch/reid-data/temp_data/model.pth.tar-200_cpu\n",
      "Loaded 1 images for model evaluation\n",
      "rank -1\n",
      "[deptbl.compute] add PiePytorchEmbedding chunk    0/1...  \n",
      "[utool] Checking remote hash URL 'https://dl.dropbox.com/s/6wvkrf319lhwhug/pie_v2.whale_shark.20210304.yaml?dl=1.md5'\n",
      "\n",
      "tic('checking remote hash')\n",
      "...toc('checking remote hash')=0.7765s\n",
      "[utool] Pre Local Hash:  None\n",
      "[utool] Pre Remote Hash: None\n",
      "[utool] Already have file /home/olga/.cache/wbia_pie_pytorch/pie_v2.whale_shark.20210304.yaml?dl=1\n",
      "Building model: resnet50_fc512\n",
      "Loaded model from wbia_pie_pytorch/reid-data/temp_data/model.pth.tar-200_cpu\n",
      "Loaded 1 images for model evaluation\n",
      "[deptbl.compute] add PiePytorchEmbedding chunk    1/1...  rate=0.53 sec/iter,  etr=0:00:00, ellapsed=0:00:01, wall=14:05 AEST \n",
      "[utool] Checking remote hash URL 'https://dl.dropbox.com/s/6wvkrf319lhwhug/pie_v2.whale_shark.20210304.yaml?dl=1.md5'\n",
      "\n",
      "tic('checking remote hash')\n",
      "...toc('checking remote hash')=0.8031s\n",
      "[utool] Pre Local Hash:  None\n",
      "[utool] Pre Remote Hash: None\n",
      "[utool] Already have file /home/olga/.cache/wbia_pie_pytorch/pie_v2.whale_shark.20210304.yaml?dl=1\n",
      "Building model: resnet50_fc512\n",
      "Loaded model from wbia_pie_pytorch/reid-data/temp_data/model.pth.tar-200_cpu\n",
      "Loaded 1 images for model evaluation\n",
      "rank -1\n",
      "[utool] Checking remote hash URL 'https://dl.dropbox.com/s/6wvkrf319lhwhug/pie_v2.whale_shark.20210304.yaml?dl=1.md5'\n",
      "\n",
      "tic('checking remote hash')\n",
      "...toc('checking remote hash')=0.8644s\n",
      "[utool] Pre Local Hash:  None\n",
      "[utool] Pre Remote Hash: None\n",
      "[utool] Already have file /home/olga/.cache/wbia_pie_pytorch/pie_v2.whale_shark.20210304.yaml?dl=1\n",
      "Building model: resnet50_fc512\n",
      "Loaded model from wbia_pie_pytorch/reid-data/temp_data/model.pth.tar-200_cpu\n",
      "Loaded 1 images for model evaluation\n",
      "rank -1\n",
      "[utool] Checking remote hash URL 'https://dl.dropbox.com/s/6wvkrf319lhwhug/pie_v2.whale_shark.20210304.yaml?dl=1.md5'\n",
      "\n",
      "tic('checking remote hash')\n",
      "...toc('checking remote hash')=1.2390s\n",
      "[utool] Pre Local Hash:  None\n",
      "[utool] Pre Remote Hash: None\n",
      "[utool] Already have file /home/olga/.cache/wbia_pie_pytorch/pie_v2.whale_shark.20210304.yaml?dl=1\n",
      "Building model: resnet50_fc512\n",
      "Loaded model from wbia_pie_pytorch/reid-data/temp_data/model.pth.tar-200_cpu\n",
      "Loaded 1 images for model evaluation\n",
      "rank -1\n",
      "[utool] Checking remote hash URL 'https://dl.dropbox.com/s/6wvkrf319lhwhug/pie_v2.whale_shark.20210304.yaml?dl=1.md5'\n",
      "\n",
      "tic('checking remote hash')\n",
      "...toc('checking remote hash')=0.7981s\n",
      "[utool] Pre Local Hash:  None\n",
      "[utool] Pre Remote Hash: None\n",
      "[utool] Already have file /home/olga/.cache/wbia_pie_pytorch/pie_v2.whale_shark.20210304.yaml?dl=1\n",
      "Building model: resnet50_fc512\n",
      "Loaded model from wbia_pie_pytorch/reid-data/temp_data/model.pth.tar-200_cpu\n",
      "Loaded 1 images for model evaluation\n",
      "rank 1\n",
      "[utool] Checking remote hash URL 'https://dl.dropbox.com/s/6wvkrf319lhwhug/pie_v2.whale_shark.20210304.yaml?dl=1.md5'\n",
      "\n",
      "tic('checking remote hash')\n",
      "...toc('checking remote hash')=1.2001s\n",
      "[utool] Pre Local Hash:  None\n",
      "[utool] Pre Remote Hash: None\n",
      "[utool] Already have file /home/olga/.cache/wbia_pie_pytorch/pie_v2.whale_shark.20210304.yaml?dl=1\n",
      "Building model: resnet50_fc512\n",
      "Loaded model from wbia_pie_pytorch/reid-data/temp_data/model.pth.tar-200_cpu\n",
      "Loaded 1 images for model evaluation\n",
      "rank 1\n",
      "[utool] Checking remote hash URL 'https://dl.dropbox.com/s/6wvkrf319lhwhug/pie_v2.whale_shark.20210304.yaml?dl=1.md5'\n",
      "\n",
      "tic('checking remote hash')\n",
      "...toc('checking remote hash')=0.8914s\n",
      "[utool] Pre Local Hash:  None\n",
      "[utool] Pre Remote Hash: None\n",
      "[utool] Already have file /home/olga/.cache/wbia_pie_pytorch/pie_v2.whale_shark.20210304.yaml?dl=1\n",
      "Building model: resnet50_fc512\n",
      "Loaded model from wbia_pie_pytorch/reid-data/temp_data/model.pth.tar-200_cpu\n",
      "Loaded 1 images for model evaluation\n",
      "rank 1\n",
      "[utool] Checking remote hash URL 'https://dl.dropbox.com/s/6wvkrf319lhwhug/pie_v2.whale_shark.20210304.yaml?dl=1.md5'\n",
      "\n",
      "tic('checking remote hash')\n",
      "...toc('checking remote hash')=0.8929s\n",
      "[utool] Pre Local Hash:  None\n",
      "[utool] Pre Remote Hash: None\n",
      "[utool] Already have file /home/olga/.cache/wbia_pie_pytorch/pie_v2.whale_shark.20210304.yaml?dl=1\n",
      "Building model: resnet50_fc512\n",
      "Loaded model from wbia_pie_pytorch/reid-data/temp_data/model.pth.tar-200_cpu\n",
      "Loaded 1 images for model evaluation\n",
      "rank 1\n",
      "[utool] Checking remote hash URL 'https://dl.dropbox.com/s/6wvkrf319lhwhug/pie_v2.whale_shark.20210304.yaml?dl=1.md5'\n",
      "\n",
      "tic('checking remote hash')\n",
      "...toc('checking remote hash')=1.1741s\n",
      "[utool] Pre Local Hash:  None\n",
      "[utool] Pre Remote Hash: None\n",
      "[utool] Already have file /home/olga/.cache/wbia_pie_pytorch/pie_v2.whale_shark.20210304.yaml?dl=1\n",
      "Building model: resnet50_fc512\n",
      "Loaded model from wbia_pie_pytorch/reid-data/temp_data/model.pth.tar-200_cpu\n",
      "Loaded 1 images for model evaluation\n",
      "rank -1\n",
      "[utool] Checking remote hash URL 'https://dl.dropbox.com/s/6wvkrf319lhwhug/pie_v2.whale_shark.20210304.yaml?dl=1.md5'\n",
      "\n",
      "tic('checking remote hash')\n",
      "...toc('checking remote hash')=0.8122s\n",
      "[utool] Pre Local Hash:  None\n",
      "[utool] Pre Remote Hash: None\n",
      "[utool] Already have file /home/olga/.cache/wbia_pie_pytorch/pie_v2.whale_shark.20210304.yaml?dl=1\n",
      "Building model: resnet50_fc512\n",
      "Loaded model from wbia_pie_pytorch/reid-data/temp_data/model.pth.tar-200_cpu\n",
      "Loaded 1 images for model evaluation\n",
      "rank -1\n",
      "[utool] Checking remote hash URL 'https://dl.dropbox.com/s/6wvkrf319lhwhug/pie_v2.whale_shark.20210304.yaml?dl=1.md5'\n",
      "\n",
      "tic('checking remote hash')\n",
      "...toc('checking remote hash')=1.2074s\n",
      "[utool] Pre Local Hash:  None\n",
      "[utool] Pre Remote Hash: None\n",
      "[utool] Already have file /home/olga/.cache/wbia_pie_pytorch/pie_v2.whale_shark.20210304.yaml?dl=1\n",
      "Building model: resnet50_fc512\n",
      "Loaded model from wbia_pie_pytorch/reid-data/temp_data/model.pth.tar-200_cpu\n",
      "Loaded 1 images for model evaluation\n",
      "rank -1\n",
      "[utool] Checking remote hash URL 'https://dl.dropbox.com/s/6wvkrf319lhwhug/pie_v2.whale_shark.20210304.yaml?dl=1.md5'\n",
      "\n",
      "tic('checking remote hash')\n",
      "...toc('checking remote hash')=0.8740s\n",
      "[utool] Pre Local Hash:  None\n",
      "[utool] Pre Remote Hash: None\n",
      "[utool] Already have file /home/olga/.cache/wbia_pie_pytorch/pie_v2.whale_shark.20210304.yaml?dl=1\n",
      "Building model: resnet50_fc512\n",
      "Loaded model from wbia_pie_pytorch/reid-data/temp_data/model.pth.tar-200_cpu\n",
      "Loaded 1 images for model evaluation\n",
      "rank -1\n",
      "[utool] Checking remote hash URL 'https://dl.dropbox.com/s/6wvkrf319lhwhug/pie_v2.whale_shark.20210304.yaml?dl=1.md5'\n",
      "\n",
      "tic('checking remote hash')\n",
      "...toc('checking remote hash')=0.8075s\n",
      "[utool] Pre Local Hash:  None\n",
      "[utool] Pre Remote Hash: None\n",
      "[utool] Already have file /home/olga/.cache/wbia_pie_pytorch/pie_v2.whale_shark.20210304.yaml?dl=1\n",
      "Building model: resnet50_fc512\n",
      "Loaded model from wbia_pie_pytorch/reid-data/temp_data/model.pth.tar-200_cpu\n",
      "Loaded 1 images for model evaluation\n",
      "rank 1\n",
      "[utool] Checking remote hash URL 'https://dl.dropbox.com/s/6wvkrf319lhwhug/pie_v2.whale_shark.20210304.yaml?dl=1.md5'\n",
      "\n",
      "tic('checking remote hash')\n",
      "...toc('checking remote hash')=0.8694s\n",
      "[utool] Pre Local Hash:  None\n",
      "[utool] Pre Remote Hash: None\n",
      "[utool] Already have file /home/olga/.cache/wbia_pie_pytorch/pie_v2.whale_shark.20210304.yaml?dl=1\n",
      "Building model: resnet50_fc512\n"
     ]
    },
    {
     "name": "stdout",
     "output_type": "stream",
     "text": [
      "Loaded model from wbia_pie_pytorch/reid-data/temp_data/model.pth.tar-200_cpu\n",
      "Loaded 1 images for model evaluation\n",
      "rank 1\n",
      "[utool] Checking remote hash URL 'https://dl.dropbox.com/s/6wvkrf319lhwhug/pie_v2.whale_shark.20210304.yaml?dl=1.md5'\n",
      "\n",
      "tic('checking remote hash')\n",
      "...toc('checking remote hash')=0.8310s\n",
      "[utool] Pre Local Hash:  None\n",
      "[utool] Pre Remote Hash: None\n",
      "[utool] Already have file /home/olga/.cache/wbia_pie_pytorch/pie_v2.whale_shark.20210304.yaml?dl=1\n",
      "Building model: resnet50_fc512\n",
      "Loaded model from wbia_pie_pytorch/reid-data/temp_data/model.pth.tar-200_cpu\n",
      "Loaded 1 images for model evaluation\n",
      "rank 1\n",
      "[utool] Checking remote hash URL 'https://dl.dropbox.com/s/6wvkrf319lhwhug/pie_v2.whale_shark.20210304.yaml?dl=1.md5'\n",
      "\n",
      "tic('checking remote hash')\n",
      "...toc('checking remote hash')=1.3410s\n",
      "[utool] Pre Local Hash:  None\n",
      "[utool] Pre Remote Hash: None\n",
      "[utool] Already have file /home/olga/.cache/wbia_pie_pytorch/pie_v2.whale_shark.20210304.yaml?dl=1\n",
      "Building model: resnet50_fc512\n",
      "Loaded model from wbia_pie_pytorch/reid-data/temp_data/model.pth.tar-200_cpu\n",
      "Loaded 1 images for model evaluation\n",
      "rank -1\n",
      "[utool] Checking remote hash URL 'https://dl.dropbox.com/s/6wvkrf319lhwhug/pie_v2.whale_shark.20210304.yaml?dl=1.md5'\n",
      "\n",
      "tic('checking remote hash')\n",
      "...toc('checking remote hash')=0.8822s\n",
      "[utool] Pre Local Hash:  None\n",
      "[utool] Pre Remote Hash: None\n",
      "[utool] Already have file /home/olga/.cache/wbia_pie_pytorch/pie_v2.whale_shark.20210304.yaml?dl=1\n",
      "Building model: resnet50_fc512\n",
      "Loaded model from wbia_pie_pytorch/reid-data/temp_data/model.pth.tar-200_cpu\n",
      "Loaded 1 images for model evaluation\n",
      "rank -1\n",
      "[utool] Checking remote hash URL 'https://dl.dropbox.com/s/6wvkrf319lhwhug/pie_v2.whale_shark.20210304.yaml?dl=1.md5'\n",
      "\n",
      "tic('checking remote hash')\n",
      "...toc('checking remote hash')=1.4626s\n",
      "[utool] Pre Local Hash:  None\n",
      "[utool] Pre Remote Hash: None\n",
      "[utool] Already have file /home/olga/.cache/wbia_pie_pytorch/pie_v2.whale_shark.20210304.yaml?dl=1\n",
      "Building model: resnet50_fc512\n",
      "Loaded model from wbia_pie_pytorch/reid-data/temp_data/model.pth.tar-200_cpu\n",
      "Loaded 1 images for model evaluation\n",
      "rank -1\n",
      "[utool] Checking remote hash URL 'https://dl.dropbox.com/s/6wvkrf319lhwhug/pie_v2.whale_shark.20210304.yaml?dl=1.md5'\n",
      "\n",
      "tic('checking remote hash')\n",
      "...toc('checking remote hash')=0.8233s\n",
      "[utool] Pre Local Hash:  None\n",
      "[utool] Pre Remote Hash: None\n",
      "[utool] Already have file /home/olga/.cache/wbia_pie_pytorch/pie_v2.whale_shark.20210304.yaml?dl=1\n",
      "Building model: resnet50_fc512\n",
      "Loaded model from wbia_pie_pytorch/reid-data/temp_data/model.pth.tar-200_cpu\n",
      "Loaded 1 images for model evaluation\n",
      "rank -1\n",
      "[utool] Checking remote hash URL 'https://dl.dropbox.com/s/6wvkrf319lhwhug/pie_v2.whale_shark.20210304.yaml?dl=1.md5'\n",
      "\n",
      "tic('checking remote hash')\n",
      "...toc('checking remote hash')=0.7781s\n",
      "[utool] Pre Local Hash:  None\n",
      "[utool] Pre Remote Hash: None\n",
      "[utool] Already have file /home/olga/.cache/wbia_pie_pytorch/pie_v2.whale_shark.20210304.yaml?dl=1\n",
      "Building model: resnet50_fc512\n",
      "Loaded model from wbia_pie_pytorch/reid-data/temp_data/model.pth.tar-200_cpu\n",
      "Loaded 1 images for model evaluation\n",
      "rank 4\n"
     ]
    }
   ],
   "source": [
    "ranks = wbia_pie_v2._plugin.pie_mass_accuracy(test_ibs, aid_list)"
   ]
  },
  {
   "cell_type": "code",
   "execution_count": 12,
   "metadata": {},
   "outputs": [
    {
     "data": {
      "text/plain": [
       "[0.35,\n",
       " 0.35,\n",
       " 0.35,\n",
       " 0.39999999999999997,\n",
       " 0.39999999999999997,\n",
       " 0.39999999999999997,\n",
       " 0.39999999999999997,\n",
       " 0.39999999999999997,\n",
       " 0.39999999999999997,\n",
       " 0.39999999999999997]"
      ]
     },
     "execution_count": 12,
     "metadata": {},
     "output_type": "execute_result"
    }
   ],
   "source": [
    "wbia_pie_pytorch._plugin.accuracy_at_k(test_ibs, ranks, max_rank=10)"
   ]
  },
  {
   "cell_type": "code",
   "execution_count": 6,
   "metadata": {},
   "outputs": [
    {
     "name": "stdout",
     "output_type": "stream",
     "text": [
      "[utool] Checking remote hash URL 'https://dl.dropbox.com/s/6wvkrf319lhwhug/pie_v2.whale_shark.20210304.yaml?dl=1.md5'\n",
      "\n",
      "tic('checking remote hash')\n",
      "...toc('checking remote hash')=0.9166s\n",
      "[utool] Pre Local Hash:  None\n",
      "[utool] Pre Remote Hash: None\n",
      "[utool] Already have file /home/olga/.cache/wbia_pie_v2/pie_v2.whale_shark.20210304.yaml?dl=1\n",
      "Building model: resnet50_fc512\n",
      "Loaded model from wbia_pie_v2/reid-data/temp_data/model.pth.tar-200_cpu\n",
      "Loaded 100 images for model evaluation\n",
      "Computing distance matrix ...\n",
      "Computing ranks ...\n",
      "Computed metrics on 36 examples\n",
      "** Results **\n",
      "Rank-1  : 77.8%\n",
      "Rank-5  : 80.6%\n",
      "Rank-10 : 86.1%\n",
      "Rank-20 : 91.7%\n"
     ]
    },
    {
     "data": {
      "text/plain": [
       "0.7777778"
      ]
     },
     "execution_count": 6,
     "metadata": {},
     "output_type": "execute_result"
    }
   ],
   "source": [
    "wbia_pie_v2._plugin.evaluate_1vsall_distmat(test_ibs, aid_list, species, use_gpu=False)"
   ]
  },
  {
   "cell_type": "code",
   "execution_count": 8,
   "metadata": {},
   "outputs": [
    {
     "data": {
      "text/plain": [
       "1301"
      ]
     },
     "execution_count": 8,
     "metadata": {},
     "output_type": "execute_result"
    }
   ],
   "source": [
    "len(test_ibs.get_valid_aids(species='whale_shark'))"
   ]
  },
  {
   "cell_type": "code",
   "execution_count": 13,
   "metadata": {
    "collapsed": true
   },
   "outputs": [
    {
     "name": "stdout",
     "output_type": "stream",
     "text": [
      "[utool] Checking remote hash URL 'https://dl.dropbox.com/s/6wvkrf319lhwhug/pie_v2.whale_shark.20210304.yaml?dl=1.md5'\n",
      "\n",
      "tic('checking remote hash')\n",
      "...toc('checking remote hash')=0.9137s\n",
      "[utool] Pre Local Hash:  None\n",
      "[utool] Pre Remote Hash: None\n",
      "[utool] Already have file /home/olga/.cache/wbia_pie_pytorch/pie_v2.whale_shark.20210304.yaml?dl=1\n",
      "Building model: resnet50_fc512\n",
      "Loaded model from /home/olga/projects_anaconda/wbia-plugin-pie-pytorch/wbia_pie_pytorch/log/03_whaleshark_cropped_resnet50_pie/model.pth.tar-200_cpu\n",
      "Loaded 100 images for model evaluation\n"
     ]
    }
   ],
   "source": [
    "embs = wbia_pie_pytorch._plugin.pie_compute_embedding(test_ibs, aid_list, species, use_gpu=False)"
   ]
  },
  {
   "cell_type": "code",
   "execution_count": 16,
   "metadata": {},
   "outputs": [],
   "source": [
    "db_labels = wbia_pie_pytorch._plugin._db_labels_for_pie(test_ibs, aid_list)"
   ]
  },
  {
   "cell_type": "code",
   "execution_count": 7,
   "metadata": {},
   "outputs": [
    {
     "data": {
      "text/plain": [
       "10"
      ]
     },
     "execution_count": 7,
     "metadata": {},
     "output_type": "execute_result"
    }
   ],
   "source": [
    "len(embs)"
   ]
  },
  {
   "cell_type": "code",
   "execution_count": 17,
   "metadata": {},
   "outputs": [
    {
     "name": "stdout",
     "output_type": "stream",
     "text": [
      "Computing distance matrix ...\n",
      "Computing CMC and mAP ...\n",
      "Computed metrics on 36 examples\n",
      "** Results **\n",
      "mAP: 80.1%\n",
      "CMC curve\n",
      "Rank-1  : 77.8%\n",
      "Rank-5  : 80.6%\n",
      "Rank-10 : 86.1%\n",
      "Rank-20 : 91.7%\n"
     ]
    }
   ],
   "source": [
    "wbia_pie_pytorch._plugin.mass_evaluate_1vsall_distmat(embs, embs, db_labels)"
   ]
  },
  {
   "cell_type": "code",
   "execution_count": null,
   "metadata": {},
   "outputs": [],
   "source": []
  },
  {
   "cell_type": "markdown",
   "metadata": {},
   "source": [
    "# Make demo db from json file\n",
    "In case I need to recompile example"
   ]
  },
  {
   "cell_type": "code",
   "execution_count": 33,
   "metadata": {},
   "outputs": [],
   "source": [
    "json_file = 'wbia_pie_v2/reid-data/query.json'\n",
    "target_dir = 'wbia_pie_v2/reid-data/whaleshark_cropped/demo_db'\n",
    "targer_image_dir = 'wbia_pie_v2/reid-data/whaleshark_cropped/demo_db/images/test2021'\n",
    "targer_annot_dir = 'wbia_pie_v2/reid-data/whaleshark_cropped/demo_db/annotations'\n",
    "annot_filename = 'instances_test2021.json'"
   ]
  },
  {
   "cell_type": "code",
   "execution_count": 7,
   "metadata": {},
   "outputs": [],
   "source": [
    "os.makedirs(targer_annot_dir, exist_ok=True)\n",
    "os.makedirs(targer_image_dir, exist_ok=True)"
   ]
  },
  {
   "cell_type": "code",
   "execution_count": 18,
   "metadata": {},
   "outputs": [],
   "source": [
    "import shutil\n",
    "import imageio\n",
    "from wbia_pie_v2.utils import read_json, write_json\n",
    "import numpy as np"
   ]
  },
  {
   "cell_type": "code",
   "execution_count": 12,
   "metadata": {},
   "outputs": [
    {
     "name": "stdout",
     "output_type": "stream",
     "text": [
      "Found 1301 records in demo db\n"
     ]
    }
   ],
   "source": [
    "test_annots = read_json(json_file)\n",
    "print('Found {} records in demo db'.format(len(test_annots)))"
   ]
  },
  {
   "cell_type": "code",
   "execution_count": 25,
   "metadata": {},
   "outputs": [],
   "source": [
    "annotations = []\n",
    "images = []\n",
    "\n",
    "for idx, record in enumerate(test_annots):\n",
    "    image_path = record[0]\n",
    "    name = record[1]\n",
    "    viewpoint = record[2]\n",
    "    source_basename = os.path.split(image_path)[-1]\n",
    "    target_path = os.path.join(targer_image_dir, source_basename)\n",
    "    shutil.copyfile(image_path, target_path)\n",
    "    # these images are pre-cropped aka trivial annotations\n",
    "    h, w = imageio.imread(image_path).shape[:2]\n",
    "    image = {'license': 1,\n",
    "             'file_name': source_basename,\n",
    "             'photographer': '',\n",
    "             'coco_url': None,\n",
    "             'height': h,\n",
    "             'width': w,\n",
    "             'date_captured': 'NA',\n",
    "             'gps_lat_captured': '-1.000000',\n",
    "             'gps_lon_captured': '-1.000000',\n",
    "             'flickr_url': None,\n",
    "             'id': idx}\n",
    "    annot = {'bbox': [0, 0, w, h],\n",
    "              'theta': 0.0,\n",
    "              'viewpoint': viewpoint,\n",
    "              'segmentation': [[0, 0, h, 0, h, w, 0, w, 0, 0]],\n",
    "              'segmentation_bbox': [0, 0, w, h],\n",
    "              'area': h*w,\n",
    "              'iscrowd': 0,\n",
    "              'id': idx,\n",
    "              'image_id': idx,\n",
    "              'category_id': 0,\n",
    "              'individual_ids': [],\n",
    "              'isinterest': 0,\n",
    "              'name': name}\n",
    "    \n",
    "    if name not in one_example_names:\n",
    "        images.append(image)\n",
    "        annotations.append(annot)"
   ]
  },
  {
   "cell_type": "code",
   "execution_count": 26,
   "metadata": {},
   "outputs": [
    {
     "data": {
      "text/plain": [
       "(966, 966)"
      ]
     },
     "execution_count": 26,
     "metadata": {},
     "output_type": "execute_result"
    }
   ],
   "source": [
    "len(images), len(annotations)"
   ]
  },
  {
   "cell_type": "code",
   "execution_count": 19,
   "metadata": {},
   "outputs": [],
   "source": [
    "# Remove one  name per example\n",
    "names = np.array([a['name'] for a in annotations])"
   ]
  },
  {
   "cell_type": "code",
   "execution_count": 20,
   "metadata": {},
   "outputs": [],
   "source": [
    "unames, counts = np.unique(names, return_counts=True)"
   ]
  },
  {
   "cell_type": "code",
   "execution_count": 24,
   "metadata": {},
   "outputs": [],
   "source": [
    "one_example_names = unames[counts == 1]"
   ]
  },
  {
   "cell_type": "code",
   "execution_count": 27,
   "metadata": {},
   "outputs": [],
   "source": [
    "info = {\n",
    "    \"description\": \"Whale shark ReId Demo Dataset\",\n",
    "    \"url\": \"https://github.com/olgamoskvyak/wbia-plugin-pie-v2\",\n",
    "    \"version\": \"1.0\",\n",
    "    \"year\": 2021,\n",
    "    \"contributor\": \"Olga Moskvyak\",\n",
    "    \"date_created\": \"2021/03/01\"\n",
    "}"
   ]
  },
  {
   "cell_type": "code",
   "execution_count": 28,
   "metadata": {},
   "outputs": [],
   "source": [
    "licenses = [\n",
    "    {\n",
    "        \"url\": \"http://creativecommons.org/licenses/by-nc-sa/2.0/\",\n",
    "        \"id\": 1,\n",
    "        \"name\": \"Attribution-NonCommercial-ShareAlike License\"\n",
    "    },\n",
    "    {\n",
    "        \"url\": \"http://creativecommons.org/licenses/by-nc/2.0/\",\n",
    "        \"id\": 2,\n",
    "        \"name\": \"Attribution-NonCommercial License\"\n",
    "    }\n",
    "]"
   ]
  },
  {
   "cell_type": "code",
   "execution_count": 29,
   "metadata": {},
   "outputs": [],
   "source": [
    "categories = [\n",
    "    {\"supercategory\": \"animal\", \"id\": 1, \"name\": \"whale_shark\"} ]"
   ]
  },
  {
   "cell_type": "code",
   "execution_count": 30,
   "metadata": {},
   "outputs": [],
   "source": [
    "coco_annotations = {\n",
    "                    'info': info,\n",
    "                    'licenses': licenses,\n",
    "                    'categories': categories,\n",
    "                    'images': images,\n",
    "                    'annotations': annotations\n",
    "                   }"
   ]
  },
  {
   "cell_type": "code",
   "execution_count": 31,
   "metadata": {},
   "outputs": [],
   "source": [
    "write_json(coco_annotations, os.path.join(targer_annot_dir, annot_filename))"
   ]
  },
  {
   "cell_type": "code",
   "execution_count": 36,
   "metadata": {},
   "outputs": [
    {
     "data": {
      "text/plain": [
       "'/home/olga/projects_anaconda/wbia-plugin-pie-v2/whale_shark_cropped_demo.zip'"
      ]
     },
     "execution_count": 36,
     "metadata": {},
     "output_type": "execute_result"
    }
   ],
   "source": [
    "shutil.make_archive('whale_shark_cropped_demo', 'zip', target_dir)"
   ]
  },
  {
   "cell_type": "code",
   "execution_count": 71,
   "metadata": {},
   "outputs": [],
   "source": []
  },
  {
   "cell_type": "code",
   "execution_count": 4,
   "metadata": {},
   "outputs": [],
   "source": [
    "def wbia_pie_pytorch_test_ibs(demo_db_url):\n",
    "    r\"\"\"\n",
    "    Create a database to test orientation detection from a coco annotation file\n",
    "    \"\"\"\n",
    "    # TODO upload test db to public server\n",
    "\n",
    "    testdb_name = os.path.join('reid-data', 'testdb_whale_sharks')\n",
    "    test_ibs = wbia.opendb(testdb_name, allow_newdir=True)\n",
    "    if len(test_ibs.get_valid_aids()) > 0:\n",
    "        return test_ibs\n",
    "    else:\n",
    "        # Download demo data archive\n",
    "        db_dir = ut.grab_zipped_url(demo_db_url, appname='wbia_pie_pytorch')\n",
    "        # Load coco annotations\n",
    "        json_file = os.path.join(db_dir, 'annotations', 'instances_test2021.json')\n",
    "        coco = read_json(json_file)\n",
    "        coco_annots = coco['annotations']\n",
    "        coco_images = coco['images']\n",
    "        print('Found {} records in demo db'.format(len(coco_annots)))\n",
    "\n",
    "        # Parse COCO annotations\n",
    "        id2file = {a['id']: a['file_name'] for a in coco_images}\n",
    "        gpaths = [id2file[a['image_id']] for a in coco_annots]\n",
    "        names = [a['name'] for a in coco_annots]\n",
    "\n",
    "        # Add files and names to db\n",
    "        gid_list = test_ibs.add_images(gpaths)\n",
    "        nid_list = test_ibs.add_names(names)\n",
    "        species = ['whale_shark'] * len(gid_list)\n",
    "\n",
    "        # these images are pre-cropped aka trivial annotations\n",
    "        bbox_list = [a['bbox'] for a in coco_annots]\n",
    "        test_ibs.add_annots(\n",
    "            gid_list, bbox_list=bbox_list, species_list=species,\n",
    "            nid_list=nid_list\n",
    "        )\n",
    "\n",
    "        return test_ibs"
   ]
  },
  {
   "cell_type": "code",
   "execution_count": 5,
   "metadata": {},
   "outputs": [
    {
     "name": "stdout",
     "output_type": "stream",
     "text": [
      "[ensuredir] checkpath('/home/olga/projects_anaconda/reid-data/testdb_whale_sharks')\n",
      "[ensuredir] ...(directory) exists\n",
      "[util_path] [Copying]: \n",
      "[C] | /home/olga/projects_anaconda/reid-data/testdb_whale_sharks/_ibsdb/_ibeis_database.sqlite3\n",
      "[C] ->/home/olga/projects_anaconda/reid-data/testdb_whale_sharks/_ibsdb/_ibeis_backups/_ibeis_database_backup_2021_03_02_00_00_00.sqlite3\n",
      "[util_path] [Copying]: \n",
      "[C] | /home/olga/projects_anaconda/reid-data/testdb_whale_sharks/_ibsdb/_ibeis_staging.sqlite3\n",
      "[C] ->/home/olga/projects_anaconda/reid-data/testdb_whale_sharks/_ibsdb/_ibeis_backups/_ibeis_staging_backup_2021_03_02_00_00_00.sqlite3\n",
      "[pref] Saving to /home/olga/projects_anaconda/reid-data/testdb_whale_sharks/whale_shark.cPkl\n"
     ]
    }
   ],
   "source": [
    "demo_db_url = 'https://www.dropbox.com/s/xwac8lyyua5jw3o/whale_shark_cropped_demo.zip?dl=1'\n",
    "test_ibs = wbia_pie_pytorch_test_ibs(demo_db_url)"
   ]
  },
  {
   "cell_type": "code",
   "execution_count": 10,
   "metadata": {},
   "outputs": [],
   "source": [
    "aid_list = test_ibs.get_valid_aids()[:10]"
   ]
  },
  {
   "cell_type": "code",
   "execution_count": 13,
   "metadata": {},
   "outputs": [],
   "source": [
    "imthn = test_ibs.get_image_thumbnail(aid_list)"
   ]
  },
  {
   "cell_type": "code",
   "execution_count": 18,
   "metadata": {},
   "outputs": [
    {
     "data": {
      "text/plain": [
       "<matplotlib.image.AxesImage at 0x7f7e44acc7d0>"
      ]
     },
     "execution_count": 18,
     "metadata": {},
     "output_type": "execute_result"
    },
    {
     "data": {
      "image/png": "[encoded data removed]",
      "text/plain": [
       "<Figure size 432x288 with 1 Axes>"
      ]
     },
     "metadata": {
      "needs_background": "light"
     },
     "output_type": "display_data"
    }
   ],
   "source": [
    "plt.imshow(imthn[8])"
   ]
  },
  {
   "cell_type": "code",
   "execution_count": null,
   "metadata": {},
   "outputs": [],
   "source": []
  }
 ],
 "metadata": {
  "kernelspec": {
   "display_name": "Python 3",
   "language": "python",
   "name": "python3"
  },
  "language_info": {
   "codemirror_mode": {
    "name": "ipython",
    "version": 3
   },
   "file_extension": ".py",
   "mimetype": "text/x-python",
   "name": "python",
   "nbconvert_exporter": "python",
   "pygments_lexer": "ipython3",
   "version": "3.7.8"
  }
 },
 "nbformat": 4,
 "nbformat_minor": 2
}
