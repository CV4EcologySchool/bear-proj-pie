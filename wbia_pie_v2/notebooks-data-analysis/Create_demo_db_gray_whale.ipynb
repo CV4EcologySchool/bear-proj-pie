{
 "cells": [
  {
   "cell_type": "markdown",
   "metadata": {},
   "source": [
    "# Create demo wbia database to test re-identification of whale sharks"
   ]
  },
  {
   "cell_type": "code",
   "execution_count": 1,
   "metadata": {},
   "outputs": [],
   "source": [
    "import matplotlib.pyplot as plt\n",
    "import os\n",
    "import shutil\n",
    "import imageio\n",
    "import json\n",
    "import numpy as np\n",
    "\n",
    "%matplotlib inline"
   ]
  },
  {
   "cell_type": "markdown",
   "metadata": {},
   "source": [
    "## Create json file for demo db\n",
    "\n",
    "Demo database consists of whale sharks with number of sightings per name from 2 to 5. Thus every query image have maximum of 4 matches."
   ]
  },
  {
   "cell_type": "markdown",
   "metadata": {},
   "source": [
    "Download dataset of whale sharks and extract it into the directory `wbia_pie_v2/reid-data/whaleshark_cropped/original`. Specify json file with test annotations:"
   ]
  },
  {
   "cell_type": "markdown",
   "metadata": {},
   "source": [
    "Train/test annotations in json format are saved during data preprocessing. Load test annotations:"
   ]
  },
  {
   "cell_type": "code",
   "execution_count": 2,
   "metadata": {},
   "outputs": [],
   "source": [
    "species = 'graywhale'\n",
    "dataDir = '../reid-data/{}/processed'.format(species)\n",
    "dataType= 'test_left'\n",
    "imageDir = '{}/images/{}'.format(dataDir, dataType)\n",
    "annFile='{}/annots/{}.json'.format(dataDir,dataType)\n",
    "targetType = 'test2021'"
   ]
  },
  {
   "cell_type": "markdown",
   "metadata": {},
   "source": [
    "Initialize a directory for a demo db:"
   ]
  },
  {
   "cell_type": "code",
   "execution_count": 3,
   "metadata": {},
   "outputs": [],
   "source": [
    "target_dir = '../reid-data/{}/demo_db'.format(species)\n",
    "targer_image_dir = os.path.join(target_dir, 'images', targetType)\n",
    "targer_annot_dir = os.path.join(target_dir, 'annotations')\n",
    "\n",
    "os.makedirs(targer_annot_dir, exist_ok=True)\n",
    "os.makedirs(targer_image_dir, exist_ok=True)"
   ]
  },
  {
   "cell_type": "markdown",
   "metadata": {},
   "source": [
    "Read COCO annotations:"
   ]
  },
  {
   "cell_type": "code",
   "execution_count": 4,
   "metadata": {},
   "outputs": [
    {
     "name": "stdout",
     "output_type": "stream",
     "text": [
      "Found 3467 annotations\n"
     ]
    }
   ],
   "source": [
    "with open(annFile, 'r') as f:\n",
    "    test_annots = json.load(f)\n",
    "print('Found {} annotations'.format(len(test_annots)))"
   ]
  },
  {
   "cell_type": "markdown",
   "metadata": {},
   "source": [
    "Select test names with number of annotations per name equal to 3 or more."
   ]
  },
  {
   "cell_type": "code",
   "execution_count": 5,
   "metadata": {},
   "outputs": [],
   "source": [
    "test_names_all = np.array([a['name'] for a in test_annots])"
   ]
  },
  {
   "cell_type": "code",
   "execution_count": 6,
   "metadata": {},
   "outputs": [
    {
     "name": "stdout",
     "output_type": "stream",
     "text": [
      "Found 359 test names with 3 or more examples\n"
     ]
    }
   ],
   "source": [
    "unames, counts = np.unique(test_names_all, return_counts=True)\n",
    "test_names = unames[counts>=3]\n",
    "print('Found {} test names with 3 or more examples'.format(len(test_names)))"
   ]
  },
  {
   "cell_type": "code",
   "execution_count": 7,
   "metadata": {},
   "outputs": [
    {
     "data": {
      "text/plain": [
       "{'image_path': '/home/olga/projects/wbia-plugin-pie-v2/wbia_pie_v2/reid-data/graywhale/processed/images/test_left/000000000002_0.jpg',\n",
       " 'aa_bbox': [0, 0, 1479, 256],\n",
       " 'obj_id': 0,\n",
       " 'name': '111f3384-3874-410d-8ca9-a200f2d42559',\n",
       " 'viewpoint': 'left',\n",
       " 'id_name': '111f3384-3874-410d-8ca9-a200f2d42559_left'}"
      ]
     },
     "execution_count": 7,
     "metadata": {},
     "output_type": "execute_result"
    }
   ],
   "source": [
    "test_annots[0]"
   ]
  },
  {
   "cell_type": "code",
   "execution_count": 8,
   "metadata": {},
   "outputs": [],
   "source": [
    "annotations = []\n",
    "images = []\n",
    "\n",
    "for idx, record in enumerate(test_annots):\n",
    "    image_path = record['image_path']\n",
    "    name = record['name']\n",
    "    viewpoint = record['viewpoint']\n",
    "    source_basename = os.path.split(image_path)[-1]\n",
    "    target_path = os.path.join(targer_image_dir, source_basename)\n",
    "    shutil.copyfile(image_path, target_path)\n",
    "    # these images are pre-cropped aka trivial annotations\n",
    "    h, w = imageio.imread(image_path).shape[:2]\n",
    "    image = {'license': 1,\n",
    "             'file_name': source_basename,\n",
    "             'photographer': '',\n",
    "             'coco_url': None,\n",
    "             'height': h,\n",
    "             'width': w,\n",
    "             'date_captured': 'NA',\n",
    "             'gps_lat_captured': '-1.000000',\n",
    "             'gps_lon_captured': '-1.000000',\n",
    "             'flickr_url': None,\n",
    "             'id': idx}\n",
    "    annot = {'bbox': [0, 0, w, h],\n",
    "              'theta': 0.0,\n",
    "              'viewpoint': viewpoint,\n",
    "              'segmentation': [[0, 0, h, 0, h, w, 0, w, 0, 0]],\n",
    "              'segmentation_bbox': [0, 0, w, h],\n",
    "              'area': h*w,\n",
    "              'iscrowd': 0,\n",
    "              'id': idx,\n",
    "              'image_id': idx,\n",
    "              'category_id': 0,\n",
    "              'individual_ids': [],\n",
    "              'isinterest': 0,\n",
    "              'name': name}\n",
    "    \n",
    "    if name in test_names:\n",
    "        images.append(image)\n",
    "        annotations.append(annot)"
   ]
  },
  {
   "cell_type": "code",
   "execution_count": 9,
   "metadata": {},
   "outputs": [
    {
     "name": "stdout",
     "output_type": "stream",
     "text": [
      "Saved 1879 images and 1879 annotations\n"
     ]
    }
   ],
   "source": [
    "print('Saved {} images and {} annotations'.format(len(images), len(annotations)))"
   ]
  },
  {
   "cell_type": "markdown",
   "metadata": {},
   "source": [
    "Load original COCO annotations to copy data such as `info`, `categories` and `licences`."
   ]
  },
  {
   "cell_type": "code",
   "execution_count": 10,
   "metadata": {},
   "outputs": [],
   "source": [
    "annOriginalFile = '../reid-data/{}/original/{}.coco/annotations/instances_{}.json'.format(species, species, 'test2021')"
   ]
  },
  {
   "cell_type": "code",
   "execution_count": 11,
   "metadata": {},
   "outputs": [],
   "source": [
    "with open(annOriginalFile, 'r') as f:\n",
    "    original_annots = json.load(f)"
   ]
  },
  {
   "cell_type": "code",
   "execution_count": 12,
   "metadata": {},
   "outputs": [],
   "source": [
    "coco_annotations = {\n",
    "                    'info': original_annots['info'],\n",
    "                    'licenses': original_annots['licenses'],\n",
    "                    'categories': original_annots['categories'],\n",
    "                    'images': images,\n",
    "                    'annotations': annotations\n",
    "                   }"
   ]
  },
  {
   "cell_type": "markdown",
   "metadata": {},
   "source": [
    "Save COCO annotations for demo database:"
   ]
  },
  {
   "cell_type": "code",
   "execution_count": 13,
   "metadata": {},
   "outputs": [],
   "source": [
    "annot_filename = os.path.join(targer_annot_dir, 'instances_{}.json'.format(targetType))\n",
    "with open(annot_filename, 'w') as f:\n",
    "    json.dump(coco_annotations, f, indent=4, separators=(',', ': '))"
   ]
  },
  {
   "cell_type": "code",
   "execution_count": 14,
   "metadata": {},
   "outputs": [
    {
     "data": {
      "text/plain": [
       "'/home/olga/projects/wbia-plugin-pie-v2/wbia_pie_v2/notebooks-data-analysis/pie_v2.whale_grey_demo.zip'"
      ]
     },
     "execution_count": 14,
     "metadata": {},
     "output_type": "execute_result"
    }
   ],
   "source": [
    "shutil.make_archive('pie_v2.whale_grey_demo', 'zip', root_dir=target_dir)"
   ]
  },
  {
   "cell_type": "markdown",
   "metadata": {},
   "source": [
    "Upload the created demo database archive to a public server for automated testing with plugin."
   ]
  }
 ],
 "metadata": {
  "kernelspec": {
   "display_name": "Python 3",
   "language": "python",
   "name": "python3"
  },
  "language_info": {
   "codemirror_mode": {
    "name": "ipython",
    "version": 3
   },
   "file_extension": ".py",
   "mimetype": "text/x-python",
   "name": "python",
   "nbconvert_exporter": "python",
   "pygments_lexer": "ipython3",
   "version": "3.7.10"
  }
 },
 "nbformat": 4,
 "nbformat_minor": 2
}
