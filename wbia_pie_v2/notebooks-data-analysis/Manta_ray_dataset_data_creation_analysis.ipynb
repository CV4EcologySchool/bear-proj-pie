{
 "cells": [
  {
   "cell_type": "markdown",
   "metadata": {},
   "source": [
    "# Manta ray annotations in COCO format"
   ]
  },
  {
   "cell_type": "code",
   "execution_count": 1,
   "metadata": {},
   "outputs": [],
   "source": [
    "import matplotlib.pyplot as plt\n",
    "from pycocotools.coco import COCO\n",
    "import os\n",
    "import shutil\n",
    "import imageio as io\n",
    "import json\n",
    "import numpy as np\n",
    "from glob import glob\n",
    "from pathlib import Path\n",
    "import cv2\n",
    "\n",
    "%matplotlib inline"
   ]
  },
  {
   "cell_type": "markdown",
   "metadata": {},
   "source": [
    "## Create manta ray annotations in COCO format from original files"
   ]
  },
  {
   "cell_type": "markdown",
   "metadata": {},
   "source": [
    "Define source folders where original images and corresponding binary masks that localizes belly pattern are stored in the old folmat. Images for each individual are stored in a separate folder."
   ]
  },
  {
   "cell_type": "code",
   "execution_count": 2,
   "metadata": {},
   "outputs": [],
   "source": [
    "source_images = '/home/olga/projects_anaconda/manta_project_v2/data/0_manta_selected'\n",
    "source_masks = '/home/olga/projects_anaconda/manta_project_v2/data/masks'"
   ]
  },
  {
   "cell_type": "code",
   "execution_count": 3,
   "metadata": {},
   "outputs": [],
   "source": [
    "target_dir = Path('manta_ray.coco')\n",
    "targetType = 'train2021'\n",
    "targer_image_dir = target_dir / 'images' / targetType\n",
    "targer_annot_dir = target_dir / 'annotations'\n",
    "annot_filename = targer_annot_dir / 'instances_{}.json'.format(targetType)\n",
    "\n",
    "targer_image_dir.mkdir(parents=True, exist_ok=True)\n",
    "targer_annot_dir.mkdir(parents=True, exist_ok=True)"
   ]
  },
  {
   "cell_type": "markdown",
   "metadata": {},
   "source": [
    "Change `debug` to `True` while experimenting."
   ]
  },
  {
   "cell_type": "code",
   "execution_count": 4,
   "metadata": {},
   "outputs": [],
   "source": [
    "debug = False"
   ]
  },
  {
   "cell_type": "code",
   "execution_count": 5,
   "metadata": {},
   "outputs": [
    {
     "name": "stdout",
     "output_type": "stream",
     "text": [
      "Found 1803 image files\n"
     ]
    }
   ],
   "source": [
    "image_paths = glob(source_images + '/*/*')\n",
    "print('Found {} image files'.format(len(image_paths)))"
   ]
  },
  {
   "cell_type": "code",
   "execution_count": 6,
   "metadata": {},
   "outputs": [
    {
     "name": "stdout",
     "output_type": "stream",
     "text": [
      "Found 1811 mask files\n"
     ]
    }
   ],
   "source": [
    "mask_paths = glob(source_masks + '/*/*')\n",
    "print('Found {} mask files'.format(len(mask_paths)))"
   ]
  },
  {
   "cell_type": "code",
   "execution_count": 7,
   "metadata": {},
   "outputs": [],
   "source": [
    "def get_bound_box(filename):\n",
    "    \"\"\"Find bounding box for masked image.\n",
    "    --------------------------------------\n",
    "    Input:\n",
    "    filename - string, path to masked image\n",
    "    \n",
    "    Return:\n",
    "    (x,y,w,h) - tuple, bounding box\n",
    "    \"\"\"\n",
    "    img = io.imread(filename)\n",
    "\n",
    "    #Threshold mask\n",
    "    ret,thresholded = cv2.threshold(img,127,255,cv2.THRESH_BINARY)\n",
    "    #Lots of changes in return variables in function findContours\n",
    "    #https://stackoverflow.com/questions/48291581/how-to-use-cv2-findcontours-in-different-opencv-versions/48292371#48292371\n",
    "    contours = cv2.findContours(thresholded, cv2.RETR_TREE,cv2.CHAIN_APPROX_SIMPLE)[-2]\n",
    "    # Choose largest contour\n",
    "    best = 0\n",
    "    maxsize = 0\n",
    "    count = 0\n",
    "    for cnt in contours:\n",
    "        if cv2.contourArea(cnt) > maxsize :\n",
    "            maxsize = cv2.contourArea(cnt)\n",
    "            best = count\n",
    "\n",
    "        count = count + 1\n",
    "    x,y,w,h = cv2.boundingRect(contours[best])\n",
    "    return (x,y,w,h)"
   ]
  },
  {
   "cell_type": "code",
   "execution_count": 8,
   "metadata": {},
   "outputs": [
    {
     "name": "stdout",
     "output_type": "stream",
     "text": [
      "Processed 0 images\n",
      "Processed 100 images\n",
      "Processed 200 images\n",
      "Processed 300 images\n",
      "Processed 400 images\n",
      "Processed 500 images\n",
      "Processed 600 images\n",
      "Processed 700 images\n",
      "Processed 800 images\n",
      "Processed 900 images\n",
      "Processed 1000 images\n",
      "Processed 1100 images\n",
      "Processed 1200 images\n",
      "Processed 1300 images\n",
      "Processed 1400 images\n",
      "Processed 1500 images\n",
      "Processed 1600 images\n",
      "Processed 1700 images\n",
      "Processed 1800 images\n"
     ]
    }
   ],
   "source": [
    "annotations = []\n",
    "images = []\n",
    "\n",
    "\n",
    "for idx, image_path in enumerate(image_paths):\n",
    "    image_path = Path(image_path)\n",
    "    name = image_path.parent.name\n",
    "    image_h, image_w = io.imread(image_path).shape[:2]\n",
    "    mask_path = Path(source_masks) / image_path.parent.name / image_path.name\n",
    "    #x, y, w, h = get_bound_box(mask_path)\n",
    "    y, x, h, w = get_bound_box(mask_path)\n",
    "    \n",
    "    image = {'license': 1,\n",
    "             'file_name': image_path.name,\n",
    "             'photographer': '',\n",
    "             'coco_url': None,\n",
    "             'height': image_h,\n",
    "             'width': image_w,\n",
    "             'date_captured': 'NA',\n",
    "             'gps_lat_captured': '-1.000000',\n",
    "             'gps_lon_captured': '-1.000000',\n",
    "             'flickr_url': None,\n",
    "             'id': idx\n",
    "            }\n",
    "    annot = {'bbox': [x, y, w, h],\n",
    "              'theta': 'none',\n",
    "              'viewpoint': 'none',\n",
    "              'segmentation': [[y, x, y+h, x, y+h, x+w, y, x+w, y, x]],\n",
    "              'segmentation_bbox': [x, y, w, h],\n",
    "              'area': h*w,\n",
    "              'iscrowd': 0,\n",
    "              'id': idx,\n",
    "              'image_id': idx,\n",
    "              'category_id': 0,\n",
    "              'individual_ids': [],\n",
    "              'isinterest': 0,\n",
    "              'name': name\n",
    "            }\n",
    "    \n",
    "    images.append(image)\n",
    "    annotations.append(annot)\n",
    "    target_path = targer_image_dir / image_path.name\n",
    "    shutil.copyfile(image_path, target_path)\n",
    "    \n",
    "    # Copy and save images\n",
    "    \n",
    "    if debug and idx > 10:\n",
    "        break\n",
    "        \n",
    "    if idx % 100 == 0:\n",
    "        print('Processed {} images'.format(idx))"
   ]
  },
  {
   "cell_type": "code",
   "execution_count": 9,
   "metadata": {
    "scrolled": false
   },
   "outputs": [
    {
     "data": {
      "text/plain": [
       "({'license': 1,\n",
       "  'file_name': '32-F-20080407-LEI-MarkAtkinson-DAMIA-4.jpg',\n",
       "  'photographer': '',\n",
       "  'coco_url': None,\n",
       "  'height': 3000,\n",
       "  'width': 4000,\n",
       "  'date_captured': 'NA',\n",
       "  'gps_lat_captured': '-1.000000',\n",
       "  'gps_lon_captured': '-1.000000',\n",
       "  'flickr_url': None,\n",
       "  'id': 0},\n",
       " {'bbox': [960, 1201, 1645, 2021],\n",
       "  'theta': 'none',\n",
       "  'viewpoint': 'none',\n",
       "  'segmentation': [[1201, 960, 3222, 960, 3222, 2605, 1201, 2605, 1201, 960]],\n",
       "  'segmentation_bbox': [960, 1201, 1645, 2021],\n",
       "  'area': 3324545,\n",
       "  'iscrowd': 0,\n",
       "  'id': 0,\n",
       "  'image_id': 0,\n",
       "  'category_id': 0,\n",
       "  'individual_ids': [],\n",
       "  'isinterest': 0,\n",
       "  'name': '0032 Damia'})"
      ]
     },
     "execution_count": 9,
     "metadata": {},
     "output_type": "execute_result"
    }
   ],
   "source": [
    "images[0], annotations[0]"
   ]
  },
  {
   "cell_type": "code",
   "execution_count": 10,
   "metadata": {},
   "outputs": [
    {
     "name": "stdout",
     "output_type": "stream",
     "text": [
      "Saved 1803 images and 1803 annotations\n"
     ]
    }
   ],
   "source": [
    "print('Saved {} images and {} annotations'.format(len(images), len(annotations)))"
   ]
  },
  {
   "cell_type": "code",
   "execution_count": 11,
   "metadata": {},
   "outputs": [],
   "source": [
    "info = {\n",
    "    \"description\": \"Manta Ray ReId Dataset collected by Project Manta and prepared by Olga Moskvyak\",\n",
    "    \"url\": \"https://github.com/olgamoskvyak/wbia-plugin-pie-v2\",\n",
    "    \"version\": \"1.0\",\n",
    "    \"year\": 2021,\n",
    "    \"contributor\": \"Olga Moskvyak\",\n",
    "    \"date_created\": \"2021/05/18\"\n",
    "}"
   ]
  },
  {
   "cell_type": "code",
   "execution_count": 12,
   "metadata": {},
   "outputs": [],
   "source": [
    "licenses = [\n",
    "    {\n",
    "        \"url\": \"http://creativecommons.org/licenses/by-nc-sa/2.0/\",\n",
    "        \"id\": 1,\n",
    "        \"name\": \"Attribution-NonCommercial-ShareAlike License\"\n",
    "    },\n",
    "    {\n",
    "        \"url\": \"http://creativecommons.org/licenses/by-nc/2.0/\",\n",
    "        \"id\": 2,\n",
    "        \"name\": \"Attribution-NonCommercial License\"\n",
    "    }\n",
    "]"
   ]
  },
  {
   "cell_type": "code",
   "execution_count": 13,
   "metadata": {},
   "outputs": [],
   "source": [
    "categories = [\n",
    "    {\"supercategory\": \"animal\", \"id\": 1, \"name\": \"manta_ray_giant\"} ]"
   ]
  },
  {
   "cell_type": "code",
   "execution_count": 14,
   "metadata": {},
   "outputs": [],
   "source": [
    "coco_annotations = {\n",
    "                    'info': info,\n",
    "                    'licenses': licenses,\n",
    "                    'categories': categories,\n",
    "                    'images': images,\n",
    "                    'annotations': annotations\n",
    "                   }"
   ]
  },
  {
   "cell_type": "markdown",
   "metadata": {},
   "source": [
    "Save COCO format of annotations:"
   ]
  },
  {
   "cell_type": "code",
   "execution_count": 15,
   "metadata": {},
   "outputs": [],
   "source": [
    "with open(annot_filename, 'w') as f:\n",
    "    json.dump(coco_annotations, f, indent=4, separators=(',', ': '))"
   ]
  },
  {
   "cell_type": "code",
   "execution_count": 16,
   "metadata": {},
   "outputs": [
    {
     "data": {
      "text/plain": [
       "'/home/olga/projects_anaconda/manta_ray.coco.zip'"
      ]
     },
     "execution_count": 16,
     "metadata": {},
     "output_type": "execute_result"
    }
   ],
   "source": [
    "shutil.make_archive('manta_ray.coco', 'zip', root_dir=target_dir)"
   ]
  },
  {
   "cell_type": "markdown",
   "metadata": {},
   "source": [
    "## Load and display annotations"
   ]
  },
  {
   "cell_type": "markdown",
   "metadata": {},
   "source": [
    "This section is the same for all datasets.\n",
    "\n",
    "Update dataDir with the location of the data."
   ]
  },
  {
   "cell_type": "code",
   "execution_count": 17,
   "metadata": {},
   "outputs": [],
   "source": [
    "species = 'manta_ray'\n",
    "dataDir='./{}.coco'.format(species)\n",
    "#dataDir='/home/olga/Datasets/{}.coco'.format(species)\n",
    "dataType= 'train2021' #'test2020' #'train2020'\n",
    "annFile='{}/annotations/instances_{}.json'.format(dataDir,dataType)"
   ]
  },
  {
   "cell_type": "code",
   "execution_count": 18,
   "metadata": {},
   "outputs": [
    {
     "name": "stdout",
     "output_type": "stream",
     "text": [
      "loading annotations into memory...\n",
      "Done (t=0.01s)\n",
      "creating index...\n",
      "index created!\n"
     ]
    }
   ],
   "source": [
    "# initialize COCO api for instance annotations\n",
    "coco=COCO(annFile)"
   ]
  },
  {
   "cell_type": "code",
   "execution_count": 19,
   "metadata": {},
   "outputs": [
    {
     "name": "stdout",
     "output_type": "stream",
     "text": [
      "COCO categories: \n",
      "manta_ray_giant\n",
      "\n",
      "COCO supercategories: \n",
      "animal\n"
     ]
    }
   ],
   "source": [
    "# display COCO categories and supercategories\n",
    "cats = coco.loadCats(coco.getCatIds())\n",
    "nms = [cat['name'] for cat in cats]\n",
    "print('COCO categories: \\n{}\\n'.format(' '.join(nms)))\n",
    "\n",
    "nms = set([cat['supercategory'] for cat in cats])\n",
    "print('COCO supercategories: \\n{}'.format(' '.join(nms)))"
   ]
  },
  {
   "cell_type": "code",
   "execution_count": 34,
   "metadata": {},
   "outputs": [
    {
     "data": {
      "image/png": "[encoded data removed]",
      "text/plain": [
       "<Figure size 432x288 with 1 Axes>"
      ]
     },
     "metadata": {
      "needs_background": "light"
     },
     "output_type": "display_data"
    }
   ],
   "source": [
    "# load and display instance annotations\n",
    "catIds = coco.getCatIds(catNms=nms);\n",
    "imgIds = coco.getImgIds(catIds=catIds);\n",
    "\n",
    "img = coco.loadImgs(imgIds[np.random.randint(0,len(imgIds))])[0]\n",
    "I = io.imread('%s/images/%s/%s'%(dataDir,dataType,img['file_name']))\n",
    "plt.imshow(I); plt.axis('off')\n",
    "annIds = coco.getAnnIds(imgIds=img['id'], catIds=catIds, iscrowd=None)\n",
    "anns = coco.loadAnns(annIds)\n",
    "coco.showAnns(anns)\n",
    "#anns"
   ]
  }
 ],
 "metadata": {
  "kernelspec": {
   "display_name": "Python 3",
   "language": "python",
   "name": "python3"
  },
  "language_info": {
   "codemirror_mode": {
    "name": "ipython",
    "version": 3
   },
   "file_extension": ".py",
   "mimetype": "text/x-python",
   "name": "python",
   "nbconvert_exporter": "python",
   "pygments_lexer": "ipython3",
   "version": "3.7.7"
  }
 },
 "nbformat": 4,
 "nbformat_minor": 4
}
